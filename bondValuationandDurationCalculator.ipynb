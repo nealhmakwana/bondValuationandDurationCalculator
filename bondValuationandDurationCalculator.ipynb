{
 "cells": [
  {
   "metadata": {
    "ExecuteTime": {
     "end_time": "2024-07-29T22:05:49.725600Z",
     "start_time": "2024-07-29T22:05:38.532855Z"
    }
   },
   "cell_type": "code",
   "source": [
    "def calculate_bond_value(coupon_rate, term_to_maturity, ytm, par_value=1000, compounding=2):\n",
    "    periods_per_year = compounding # 1 for annual, 2 for semiannual, 4 for quarterly, 12 for monthly\n",
    "    total_periods = term_to_maturity * periods_per_year # total number of periods\n",
    "    period_rate = ytm / periods_per_year # periodic rate\n",
    "    coupon_payment = coupon_rate * par_value / periods_per_year # coupon payment\n",
    "\n",
    "    bond_value = 0 # initialize bond value\n",
    "    for t in range(1, total_periods + 1): # calculate the present value of each coupon payment\n",
    "        bond_value += coupon_payment / (1 + period_rate) ** t\n",
    "    bond_value += par_value / (1 + period_rate) ** total_periods # add the present value of the par value\n",
    "\n",
    "    return bond_value\n",
    "\n",
    "def calculate_durations(coupon_rate, term_to_maturity, ytm, par_value=1000, compounding=2):\n",
    "    periods_per_year = compounding # 1 for annual, 2 for semiannual, 4 for quarterly, 12 for monthly\n",
    "    total_periods = term_to_maturity * periods_per_year # total number of periods\n",
    "    period_rate = ytm / periods_per_year # periodic rate\n",
    "    coupon_payment = coupon_rate * par_value / periods_per_year # coupon payment\n",
    "\n",
    "    bond_value = calculate_bond_value(coupon_rate, term_to_maturity, ytm, par_value, compounding) # calculate the bond value\n",
    "    \n",
    "    macaulay_duration = 0 # initialize macaulay duration\n",
    "    for t in range(1, total_periods + 1): # calculate the present value of each coupon payment\n",
    "        macaulay_duration += t * (coupon_payment / (1 + period_rate) ** t)\n",
    "    macaulay_duration += total_periods * (par_value / (1 + period_rate) ** total_periods) # add the present value of the par value\n",
    "    macaulay_duration /= bond_value # divide by the bond value\n",
    "    macaulay_duration /= periods_per_year # adjust for the number of periods per year\n",
    "\n",
    "    modified_duration = macaulay_duration / (1 + period_rate) # calculate the modified duration\n",
    "    \n",
    "    return macaulay_duration, modified_duration\n",
    "\n",
    "def main():\n",
    "    coupon_rate = float(input(\"Enter the coupon rate (in decimal, e.g., 0.08 for 8%): \"))\n",
    "    term_to_maturity = int(input(\"Enter the term to maturity (in years): \"))\n",
    "    ytm = float(input(\"Enter the yield to maturity (in decimal, e.g., 0.06 for 6%): \"))\n",
    "    par_value_input = input(\"Enter the par value (or hit enter to accept default of $1,000): \")\n",
    "    par_value = 1000 if par_value_input == '' else float(par_value_input)\n",
    "    compounding_input = input(\"Enter the compounding frequency (1 for annual, 2 for semiannual, 4 for quarterly, 12 for monthly): \")\n",
    "    compounding = 2 if compounding_input == '' else int(compounding_input)\n",
    "\n",
    "    bond_value = calculate_bond_value(coupon_rate, term_to_maturity, ytm, par_value, compounding)\n",
    "    macaulay_duration, modified_duration = calculate_durations(coupon_rate, term_to_maturity, ytm, par_value, compounding)\n",
    "\n",
    "    print(f\"Bond Value: ${bond_value:.2f}\")\n",
    "    print(f\"Macaulay Duration: {macaulay_duration:.2f} years\")\n",
    "    print(f\"Modified Duration: {modified_duration:.2f} years\")\n",
    "\n",
    "if __name__ == \"__main__\":\n",
    "    main()"
   ],
   "id": "305b0cfb88bed9a8",
   "outputs": [
    {
     "name": "stdout",
     "output_type": "stream",
     "text": [
      "Bond Value: $1085.30\n",
      "Macaulay Duration: 4.25 years\n",
      "Modified Duration: 4.13 years\n"
     ]
    }
   ],
   "execution_count": 11
  }
 ],
 "metadata": {
  "kernelspec": {
   "display_name": "Python 3",
   "language": "python",
   "name": "python3"
  },
  "language_info": {
   "codemirror_mode": {
    "name": "ipython",
    "version": 2
   },
   "file_extension": ".py",
   "mimetype": "text/x-python",
   "name": "python",
   "nbconvert_exporter": "python",
   "pygments_lexer": "ipython2",
   "version": "2.7.6"
  }
 },
 "nbformat": 4,
 "nbformat_minor": 5
}
